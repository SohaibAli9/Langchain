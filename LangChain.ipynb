{
 "cells": [
  {
   "cell_type": "markdown",
   "id": "18031c6a",
   "metadata": {},
   "source": [
    "In this notebook we learn the following things\n",
    "\n",
    "1. Initializing the OPENAI 4o model using langchain\n",
    "2. Simply calling with a query and getting an answer\n",
    "3. Chaining multiple queries and feeding the answer of one to the next\n",
    "4. Using agents to help with out query like wikipedia, calculator e.t.c\n",
    "5. Storing context in terms of memory\n",
    "6. Limiting the memory so that it doesn't cost as much"
   ]
  },
  {
   "cell_type": "code",
   "execution_count": 2,
   "id": "4059ff1f",
   "metadata": {},
   "outputs": [
    {
     "name": "stdout",
     "output_type": "stream",
     "text": [
      "sk-proj-yWUN27rfHGp4MFj2Du7pT3BlbkFJKoo3wUUGEYWdGpy5raHT\n",
      "sk-proj-yWUN27rfHGp4MFj2Du7pT3BlbkFJKoo3wUUGEYWdGpy5raHT\n"
     ]
    }
   ],
   "source": [
    "from secret_key import openapi_key\n",
    "import os\n",
    "\n",
    "os.environ['OPENAI_API_KEY'] = openapi_key\n",
    "print(openapi_key)\n",
    "print(os.environ['OPENAI_API_KEY'])"
   ]
  },
  {
   "cell_type": "code",
   "execution_count": null,
   "id": "d52f3c93",
   "metadata": {},
   "outputs": [],
   "source": [
    "from openai import OpenAI\n",
    "\n",
    "client = OpenAI()\n",
    "\n",
    "completion = client.chat.completions.create(\n",
    "  model=\"gpt-4o\",\n",
    "  messages=[\n",
    "    {\"role\": \"system\", \"content\": \"You are a poetic assistant, skilled in explaining complex programming concepts with creative flair.\"},\n",
    "    {\"role\": \"user\", \"content\": \"Compose a poem that explains the concept of recursion in programming.\"}\n",
    "  ]\n",
    ")\n",
    "\n",
    "print(completion.choices[0].message)"
   ]
  },
  {
   "cell_type": "code",
   "execution_count": 54,
   "id": "97cad78d",
   "metadata": {},
   "outputs": [
    {
     "name": "stdout",
     "output_type": "stream",
     "text": [
      "content=\"That sounds like an exciting venture! Here are some fancy name suggestions for your Indian restaurant:\\n\\n1. **Maharaja's Feast**\\n2. **Saffron Palace**\\n3. **Royal Spice Garden**\\n4. **Taj Temptations**\\n5. **Golden Peacock**\\n6. **Curry Couture**\\n7. **Spice Symphony**\\n8. **Eternal Flavors**\\n9. **Indigo Essence**\\n10. **Nirvana Nook**\\n\\nThese names aim to evoke a sense of elegance, luxury, and the rich culinary tradition of Indian cuisine. Good luck with your restaurant!\" response_metadata={'token_usage': {'completion_tokens': 122, 'prompt_tokens': 24, 'total_tokens': 146}, 'model_name': 'gpt-4o', 'system_fingerprint': 'fp_729ea513f7', 'finish_reason': 'stop', 'logprobs': None} id='run-d8d37f75-5b0c-4ba3-b1d8-642b5c11a57e-0'\n"
     ]
    }
   ],
   "source": [
    "from langchain_community.chat_models import ChatOpenAI\n",
    "\n",
    "llm = ChatOpenAI(model_name='gpt-4o', temperature=0.9)\n",
    "question = \"I want to open a restaurant for indian food. Suggest a fancy name for this.\"\n",
    "\n",
    "name = llm.invoke(question)\n",
    "print(name)"
   ]
  },
  {
   "cell_type": "code",
   "execution_count": 16,
   "id": "8fcc1a96",
   "metadata": {},
   "outputs": [
    {
     "name": "stdout",
     "output_type": "stream",
     "text": [
      "Sure! Here are a few elegant and sophisticated names you might consider for your Indian restaurant:\n",
      "\n",
      "1. **Spice Symphony**\n",
      "2. **Royal Rasoi**\n",
      "3. **Mughal Majesty**\n",
      "4. **Nawab's Nest**\n",
      "5. **Taj Taste**\n",
      "6. **Saffron Sanctuary**\n",
      "7. **The Maharaja's Table**\n",
      "8. **Pashmina Palace**\n",
      "9. **Diwan Dining**\n",
      "10. **Bollywood Bistro**\n",
      "\n",
      "These names evoke a sense of luxury and authenticity, making them perfect for a high-end Indian dining experience.\n"
     ]
    }
   ],
   "source": [
    "print(name.content)"
   ]
  },
  {
   "cell_type": "code",
   "execution_count": 25,
   "id": "ea7590b0",
   "metadata": {},
   "outputs": [
    {
     "data": {
      "text/plain": [
       "'I want to open a restaurant for Mexican food. Suggest only one name and say nothing else.'"
      ]
     },
     "execution_count": 25,
     "metadata": {},
     "output_type": "execute_result"
    }
   ],
   "source": [
    "from langchain.prompts import PromptTemplate\n",
    "\n",
    "prompt_template_name = PromptTemplate(\n",
    "    input_variables = ['cuisine'],\n",
    "    template = \"I want to open a restaurant for {cuisine} food. Suggest only one name and say nothing else.\"\n",
    ")\n",
    "\n",
    "prompt_template_name.format(cuisine=\"Mexican\")"
   ]
  },
  {
   "cell_type": "code",
   "execution_count": 26,
   "id": "e90760fc",
   "metadata": {},
   "outputs": [],
   "source": [
    "from langchain.chains import LLMChain\n",
    "\n",
    "chain = LLMChain(llm=llm, prompt=prompt_template_name)\n",
    "answer = chain.run(\"Italian\")"
   ]
  },
  {
   "cell_type": "code",
   "execution_count": 27,
   "id": "bc94a196",
   "metadata": {},
   "outputs": [
    {
     "data": {
      "text/plain": [
       "'La Dolce Vita'"
      ]
     },
     "execution_count": 27,
     "metadata": {},
     "output_type": "execute_result"
    }
   ],
   "source": [
    "answer"
   ]
  },
  {
   "cell_type": "code",
   "execution_count": 31,
   "id": "32b54bb0",
   "metadata": {},
   "outputs": [],
   "source": [
    "prompt_template_items = PromptTemplate(\n",
    "    input_variables = ['restaurant_name'],\n",
    "    template = \"Suggest some menu items for {restaurant_name}. return ut as a comma separated list\"\n",
    ")\n",
    "\n",
    "food_items_chain = LLMChain(llm=llm, prompt=prompt_template_items)"
   ]
  },
  {
   "cell_type": "code",
   "execution_count": 32,
   "id": "46e5d2cd",
   "metadata": {},
   "outputs": [
    {
     "name": "stdout",
     "output_type": "stream",
     "text": [
      "Tacos al Pastor, Carne Asada Tacos, Chicken Tinga Tacos, Veggie Tacos, Beef Enchiladas, Cheese Enchiladas, Chicken Enchiladas, Shrimp Enchiladas, Carnitas Burrito, Bean and Cheese Burrito, Chicken Fajitas, Steak Fajitas, Shrimp Fajitas, Chiles Rellenos, Tamales, Chicken Quesadilla, Beef Quesadilla, Veggie Quesadilla, Guacamole and Chips, Nachos, Mexican Street Corn, Sopa de Tortilla, Pozole, Menudo, Horchata, Tamarindo Agua Fresca, Churros, Flan, Tres Leches Cake\n"
     ]
    }
   ],
   "source": [
    "from langchain.chains import SimpleSequentialChain\n",
    "\n",
    "chain = SimpleSequentialChain(chains = [chain, food_items_chain])\n",
    "response = chain.run(\"Mexican\")\n",
    "print(response)"
   ]
  },
  {
   "cell_type": "code",
   "execution_count": 40,
   "id": "69df6eec",
   "metadata": {},
   "outputs": [],
   "source": [
    "prompt_template_name = PromptTemplate(\n",
    "    input_variables = ['cuisine'],\n",
    "    template = \"I want to open a restaurant for {cuisine} food. Suggest only one name and say nothing else.\"\n",
    ")\n",
    "\n",
    "name_chain = LLMChain(llm=llm, prompt=prompt_template_name, output_key='restaurant_name')\n",
    "\n",
    "prompt_template_items = PromptTemplate(\n",
    "    input_variables = ['restaurant_name'],\n",
    "    template = \"Suggest some menu items for {restaurant_name}. return ut as a comma separated list\"\n",
    ")\n",
    "\n",
    "food_items_chain = LLMChain(llm=llm, prompt=prompt_template_items, output_key='menu_items')"
   ]
  },
  {
   "cell_type": "code",
   "execution_count": 42,
   "id": "6ac16aca",
   "metadata": {},
   "outputs": [
    {
     "data": {
      "text/plain": [
       "{'cuisine': 'Arabic',\n",
       " 'restaurant_name': 'Sahara Delights',\n",
       " 'menu_items': 'Sure! Here are some menu items for Sahara Delights:\\n\\n1. Moroccan Chicken Tagine,\\n2. Lamb Couscous,\\n3. Spicy Harira Soup,\\n4. Falafel Wraps,\\n5. Chicken Shawarma Platter,\\n6. Grilled Vegetable Skewers,\\n7. Hummus with Pita,\\n8. Beef Kofta Kebabs,\\n9. Baba Ghanoush,\\n10. Tabbouleh Salad,\\n11. Mint Tea,\\n12. Baklava,\\n13. Stuffed Grape Leaves,\\n14. Moroccan Mint Lemonade,\\n15. Almond Briouats,\\n16. Spiced Lentil Soup,\\n17. Zaalouk (Eggplant Salad),\\n18. Chicken Bastilla,\\n19. Spiced Lamb Meatballs,\\n20. Rosewater Rice Pudding.'}"
      ]
     },
     "execution_count": 42,
     "metadata": {},
     "output_type": "execute_result"
    }
   ],
   "source": [
    "from langchain.chains import SequentialChain\n",
    "\n",
    "chain = SequentialChain(\n",
    "    chains = [name_chain, food_items_chain],\n",
    "    input_variables = ['cuisine'],\n",
    "    output_variables = ['restaurant_name', 'menu_items']\n",
    ")\n",
    "\n",
    "chain.invoke({'cuisine': 'Arabic'})"
   ]
  },
  {
   "cell_type": "code",
   "execution_count": 55,
   "id": "df92b016",
   "metadata": {},
   "outputs": [],
   "source": [
    "from langchain.agents import AgentType, initialize_agent, load_tools\n",
    "\n",
    "tools = load_tools([\"llm-math\"], llm=llm)"
   ]
  },
  {
   "cell_type": "code",
   "execution_count": 56,
   "id": "0e2c5939",
   "metadata": {},
   "outputs": [],
   "source": [
    "from langchain.tools import WikipediaQueryRun\n",
    "from langchain_community.utilities import WikipediaAPIWrapper\n",
    "\n",
    "wikipedia = WikipediaQueryRun(api_wrapper=WikipediaAPIWrapper())\n",
    "tools.append(wikipedia)"
   ]
  },
  {
   "cell_type": "code",
   "execution_count": 57,
   "id": "405579e3",
   "metadata": {},
   "outputs": [],
   "source": [
    "agent = initialize_agent(\n",
    "    tools,\n",
    "    llm,\n",
    "    agent=AgentType.ZERO_SHOT_REACT_DESCRIPTION,\n",
    "    verbose=True\n",
    ")"
   ]
  },
  {
   "cell_type": "code",
   "execution_count": 58,
   "id": "dd603c96",
   "metadata": {},
   "outputs": [
    {
     "name": "stdout",
     "output_type": "stream",
     "text": [
      "\n",
      "\n",
      "\u001b[1m> Entering new AgentExecutor chain...\u001b[0m\n",
      "\u001b[32;1m\u001b[1;3mTo answer this question, I need to find Elon Musk's birth date and then calculate his age as of a specific date in 2024.\n",
      "\n",
      "Step 1: Find Elon Musk's date of birth.\n",
      "Step 2: Calculate Elon Musk's age in 2024, including months for accuracy.\n",
      "\n",
      "Let's start with Step 1.\n",
      "\n",
      "Action: wikipedia\n",
      "Action Input: Elon Musk birth date\u001b[0m\n",
      "Observation: \u001b[33;1m\u001b[1;3mPage: Elon Musk\n",
      "Summary: Elon Reeve Musk ( EE-lon; born June 28, 1971) is a businessman and investor. He is the founder, chairman, CEO, and CTO of SpaceX; angel investor, CEO, product architect, and former chairman of Tesla, Inc.; owner, executive chairman, and CTO of X Corp.; founder of the Boring Company and xAI; co-founder of Neuralink and OpenAI; and president of the Musk Foundation. He is one of the wealthiest people in the world; as of April 2024, Forbes estimates his net worth to be $178 billion. \n",
      "A member of the wealthy South African Musk family, Musk was born in Pretoria and briefly attended the University of Pretoria before immigrating to Canada at age 18, acquiring citizenship through his Canadian-born mother. Two years later, he matriculated at Queen's University at Kingston in Canada. Musk later transferred to the University of Pennsylvania and received bachelor's degrees in economics and physics. He moved to California in 1995 to attend Stanford University, but dropped out after two days and, with his brother Kimbal, co-founded online city guide software company Zip2. The startup was acquired by Compaq for $307 million in 1999. That same year, Musk co-founded X.com, a direct bank. X.com merged with Confinity in 2000 to form PayPal. In October 2002, eBay acquired PayPal for $1.5 billion. Using $100 million of the money he made from the sale of PayPal, Musk founded SpaceX, a spaceflight services company, in 2002. \n",
      "In 2004, Musk became an early investor in electric vehicle manufacturer Tesla Motors, Inc. (later Tesla, Inc.). He became the company's chairman and product architect, assuming the position of CEO in 2008. In 2006, Musk helped create SolarCity, a solar-energy company that was acquired by Tesla in 2016 and became Tesla Energy. In 2013, he proposed a hyperloop high-speed vactrain transportation system. In 2015, he co-founded OpenAI, a nonprofit artificial intelligence research company. The following year, Musk co-founded Neuralink—a neurotechnology company developing brain–computer interfaces—and the Boring Company, a tunnel construction company. In 2018, the U.S. Securities and Exchange Commission (SEC) sued Musk, alleging that he had falsely announced that he had secured funding for a private takeover of Tesla. To settle the case, Musk stepped down as the chairman of Tesla and paid a $20 million fine. In 2022, he acquired Twitter for $44 billion. He subsequently merged the company into newly created X Corp. and rebranded the service as X the following year. In March 2023, Musk founded xAI, an artificial intelligence company.\n",
      "Musk has expressed views that have made him a polarizing figure. He has been criticized for making unscientific and misleading statements, including COVID-19 misinformation and antisemitic conspiracy theories. His ownership of Twitter has been similarly controversial, being marked by layoffs of large numbers of employees, an increase in hate speech and misinformation and disinformation on the website, and changes to Twitter Blue verification.\n",
      "\n",
      "Page: Views of Elon Musk\n",
      "Summary: Elon Musk is the CEO or owner of multiple companies including Tesla, SpaceX, and X Corp, and has expressed many views on a wide variety of subjects, ranging from politics to science.\n",
      "Within the context of American politics, Musk has said he supported Barack Obama in 2008 and 2012, Hillary Clinton in 2016, and Joe Biden in 2020. In 2022, Musk said he would start voting for Republican Party candidates, with him showing support for Vivek Ramaswamy in the 2024 Republican presidential primaries. He has stated support for universal basic income, gun rights, freedom of speech, a tax on carbon emissions and opposes government subsidies. He is also a critic of immigration and short-selling.\n",
      "Musk has expressed concern about issues such as artificial intelligence (AI), climate change and population decline. He has also criticized COVID-19 lockdowns, public transportation, and labor unions. He has promoted conspiracy theori\u001b[0m\n",
      "Thought:\u001b[32;1m\u001b[1;3mElon Musk was born on June 28, 1971. Now, let's calculate his age as of a specific date in 2024, including months for accuracy.\n",
      "\n",
      "Step 2: Calculate Elon Musk's age in 2024, as of a specific date (e.g., today's date or a particular date in 2024).\n",
      "\n",
      "For this example, let's calculate his age as of April 23, 2024.\n",
      "\n",
      "Birth Date: June 28, 1971\n",
      "Calculation Date: April 23, 2024\n",
      "\n",
      "1. Calculate the year difference:\n",
      "2024 - 1971 = 53 years\n",
      "\n",
      "2. Next, calculate the months and days:\n",
      "\n",
      "- From June 28, 2023, to June 28, 2024, he would turn 53.\n",
      "- Since April 23, 2024, is before June 28, 2024, he has not yet turned 53.\n",
      "\n",
      "To be exact:\n",
      "From June 28, 2023, to April 23, 2024, is 9 months and 26 days.\n",
      "\n",
      "Therefore, as of April 23, 2024, Elon Musk would be 52 years old and 9 months and 26 days.\n",
      "\n",
      "Final Answer: Elon Musk was born on June 28, 1971. As of April 23, 2024, he would be 52 years old and 9 months and 26 days.\u001b[0m\n",
      "\n",
      "\u001b[1m> Finished chain.\u001b[0m\n"
     ]
    },
    {
     "data": {
      "text/plain": [
       "'Elon Musk was born on June 28, 1971. As of April 23, 2024, he would be 52 years old and 9 months and 26 days.'"
      ]
     },
     "execution_count": 58,
     "metadata": {},
     "output_type": "execute_result"
    }
   ],
   "source": [
    "agent.run(\"When was elon musk born and what is his age right now in 2024? be accurate in calculating months\")"
   ]
  },
  {
   "cell_type": "code",
   "execution_count": 59,
   "id": "79482e6c",
   "metadata": {},
   "outputs": [
    {
     "name": "stdout",
     "output_type": "stream",
     "text": [
      "La Bella Cucina\n"
     ]
    }
   ],
   "source": [
    "from langchain.memory import ConversationBufferMemory\n",
    "\n",
    "memory = ConversationBufferMemory()\n",
    "\n",
    "chain = LLMChain(llm=llm, prompt=prompt_template_name, memory=memory)\n",
    "answer = chain.run(\"Italian\")\n",
    "print(answer)"
   ]
  },
  {
   "cell_type": "code",
   "execution_count": 60,
   "id": "36f9e316",
   "metadata": {},
   "outputs": [
    {
     "name": "stdout",
     "output_type": "stream",
     "text": [
      "Spice Haven\n"
     ]
    }
   ],
   "source": [
    "answer = chain.run(\"Indian\")\n",
    "print(answer)"
   ]
  },
  {
   "cell_type": "code",
   "execution_count": 62,
   "id": "017ec5c8",
   "metadata": {},
   "outputs": [
    {
     "name": "stdout",
     "output_type": "stream",
     "text": [
      "Human: Italian\n",
      "AI: La Bella Cucina\n",
      "Human: Indian\n",
      "AI: Spice Haven\n"
     ]
    }
   ],
   "source": [
    "print(chain.memory.buffer)"
   ]
  },
  {
   "cell_type": "code",
   "execution_count": 64,
   "id": "60229e88",
   "metadata": {},
   "outputs": [
    {
     "name": "stdout",
     "output_type": "stream",
     "text": [
      "The following is a friendly conversation between a human and an AI. The AI is talkative and provides lots of specific details from its context. If the AI does not know the answer to a question, it truthfully says it does not know.\n",
      "\n",
      "Current conversation:\n",
      "{history}\n",
      "Human: {input}\n",
      "AI:\n"
     ]
    }
   ],
   "source": [
    "from langchain.chains import ConversationChain\n",
    "\n",
    "convo = ConversationChain(llm=llm)\n",
    "print(convo.prompt.template)"
   ]
  },
  {
   "cell_type": "code",
   "execution_count": 65,
   "id": "bae1c681",
   "metadata": {},
   "outputs": [
    {
     "data": {
      "text/plain": [
       "\"The first football World Cup was won by Uruguay in 1930. The inaugural tournament was held in Uruguay, and the host nation triumphed by defeating Argentina 4-2 in the final match on July 30, 1930. This victory marked the beginning of what has become one of the most prestigious competitions in all of sports. Uruguay's win was celebrated with much fervor, especially since it coincided with the centenary of their first constitution.\""
      ]
     },
     "execution_count": 65,
     "metadata": {},
     "output_type": "execute_result"
    }
   ],
   "source": [
    "convo.run(\"Who won the first football worldcup?\")"
   ]
  },
  {
   "cell_type": "code",
   "execution_count": 68,
   "id": "cc4ce84d",
   "metadata": {},
   "outputs": [
    {
     "name": "stdout",
     "output_type": "stream",
     "text": [
      "Human: Who won the first football worldcup?\n",
      "AI: The first football World Cup was won by Uruguay in 1930. The inaugural tournament was held in Uruguay, and the host nation triumphed by defeating Argentina 4-2 in the final match on July 30, 1930. This victory marked the beginning of what has become one of the most prestigious competitions in all of sports. Uruguay's win was celebrated with much fervor, especially since it coincided with the centenary of their first constitution.\n"
     ]
    }
   ],
   "source": [
    "print(convo.memory.buffer)"
   ]
  },
  {
   "cell_type": "code",
   "execution_count": 73,
   "id": "1f45f14f",
   "metadata": {},
   "outputs": [],
   "source": [
    "from langchain.memory import ConversationBufferWindowMemory\n",
    "\n",
    "memory = ConversationBufferWindowMemory(k=3)"
   ]
  },
  {
   "cell_type": "code",
   "execution_count": 74,
   "id": "c4c32016",
   "metadata": {},
   "outputs": [
    {
     "data": {
      "text/plain": [
       "\"The first FIFA World Cup was held in 1930, and the winner was Uruguay. The tournament took place in Uruguay’s capital, Montevideo, with the final match held at the Estadio Centenario. Uruguay defeated Argentina 4-2 in the final to claim the championship. This event marked the beginning of what would become the world's most prestigious soccer competition.\""
      ]
     },
     "execution_count": 74,
     "metadata": {},
     "output_type": "execute_result"
    }
   ],
   "source": [
    "convo = ConversationChain(llm=llm, memory=memory)\n",
    "convo.run(\"Who won the first football worldcup?\")"
   ]
  },
  {
   "cell_type": "code",
   "execution_count": 75,
   "id": "cc4db508",
   "metadata": {},
   "outputs": [
    {
     "data": {
      "text/plain": [
       "\"5 + 5 equals 10. It's one of the basic addition facts that most people learn early on, and it’s quite handy in everyday situations! If you have any other questions or need further explanations, feel free to ask!\""
      ]
     },
     "execution_count": 75,
     "metadata": {},
     "output_type": "execute_result"
    }
   ],
   "source": [
    "convo.run(\"What is 5 + 5\")"
   ]
  },
  {
   "cell_type": "code",
   "execution_count": 76,
   "id": "b40a7248",
   "metadata": {},
   "outputs": [
    {
     "data": {
      "text/plain": [
       "'The winning team country of the first FIFA World Cup in 1930 was Uruguay. They triumphed over Argentina with a score of 4-2 in the final match, which took place at the Estadio Centenario in Montevideo, Uruguay. This victory made Uruguay the inaugural champions of the FIFA World Cup. If you have any other questions or need more details, feel free to ask!'"
      ]
     },
     "execution_count": 76,
     "metadata": {},
     "output_type": "execute_result"
    }
   ],
   "source": [
    "convo.run(\"Who was the winning team country?\")"
   ]
  },
  {
   "cell_type": "code",
   "execution_count": null,
   "id": "b0a1da5d",
   "metadata": {},
   "outputs": [],
   "source": []
  }
 ],
 "metadata": {
  "kernelspec": {
   "display_name": "Python 3 (ipykernel)",
   "language": "python",
   "name": "python3"
  },
  "language_info": {
   "codemirror_mode": {
    "name": "ipython",
    "version": 3
   },
   "file_extension": ".py",
   "mimetype": "text/x-python",
   "name": "python",
   "nbconvert_exporter": "python",
   "pygments_lexer": "ipython3",
   "version": "3.11.0"
  }
 },
 "nbformat": 4,
 "nbformat_minor": 5
}
